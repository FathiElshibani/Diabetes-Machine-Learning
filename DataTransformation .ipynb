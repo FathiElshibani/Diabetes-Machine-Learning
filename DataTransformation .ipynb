{
 "cells": [
  {
   "cell_type": "code",
   "execution_count": 14,
   "metadata": {
    "collapsed": true
   },
   "outputs": [],
   "source": [
    "import pandas as pd\n",
    "import numpy as np\n",
    "import matplotlib.pyplot as plt\n",
    "import seaborn as sns\n",
    "import matplotlib as mpl\n",
    "import sklearn.model_selection as ms\n",
    "import sklearn.metrics as sklm\n",
    "import sklearn.decomposition as skde\n",
    "from sklearn import preprocessing"
   ]
  },
  {
   "cell_type": "code",
   "execution_count": 15,
   "metadata": {
    "collapsed": true
   },
   "outputs": [],
   "source": [
    "# read the diabetic data to pandas dataframe\n",
    "diabetes = pd.read_csv(\"diabetes_cleaned.csv\", index_col = 'encounter_id')"
   ]
  },
  {
   "cell_type": "code",
   "execution_count": 16,
   "metadata": {
    "collapsed": true
   },
   "outputs": [],
   "source": [
    "# create a numpy array of the label values required for the scikit-learn model\n",
    "labels = np.array(diabetes['label'])"
   ]
  },
  {
   "cell_type": "code",
   "execution_count": 17,
   "metadata": {
    "collapsed": true
   },
   "outputs": [],
   "source": [
    "# write labels values to CSV file to use it later.\n",
    "np.savetxt(r'Labels.csv',labels,delimiter=',')"
   ]
  },
  {
   "cell_type": "code",
   "execution_count": 18,
   "metadata": {
    "collapsed": true
   },
   "outputs": [],
   "source": [
    "# drop cloumns we don't need for our model\n",
    "diabetes = diabetes.drop(['diag_1','diag_2','diag_3','admission_type_id','patient_nbr', 'readmitted', 'age'], axis =1)\n",
    "\n",
    "# drop label column after save it as separete file (Lebels.csv)\n",
    "diabetes = diabetes.drop('label', axis=1)"
   ]
  },
  {
   "cell_type": "code",
   "execution_count": 19,
   "metadata": {
    "collapsed": true
   },
   "outputs": [],
   "source": [
    "# convert [discharge_disposition_id, admission_source_id] to string columns ... for more details see IDs_mapping.csv file\n",
    "diabetes.discharge_disposition_id = diabetes.discharge_disposition_id.astype(str)\n",
    "diabetes.admission_source_id = diabetes.admission_source_id.astype(str)"
   ]
  },
  {
   "cell_type": "code",
   "execution_count": 20,
   "metadata": {},
   "outputs": [
    {
     "data": {
      "text/plain": [
       "['race',\n",
       " 'gender',\n",
       " 'discharge_disposition_id',\n",
       " 'admission_source_id',\n",
       " 'max_glu_serum',\n",
       " 'A1Cresult',\n",
       " 'metformin',\n",
       " 'repaglinide',\n",
       " 'nateglinide',\n",
       " 'chlorpropamide',\n",
       " 'glimepiride',\n",
       " 'acetohexamide',\n",
       " 'glipizide',\n",
       " 'glyburide',\n",
       " 'tolbutamide',\n",
       " 'pioglitazone',\n",
       " 'rosiglitazone',\n",
       " 'acarbose',\n",
       " 'miglitol',\n",
       " 'troglitazone',\n",
       " 'tolazamide',\n",
       " 'insulin',\n",
       " 'glyburide-metformin',\n",
       " 'glipizide-metformin',\n",
       " 'glimepiride-pioglitazone',\n",
       " 'metformin-rosiglitazone',\n",
       " 'metformin-pioglitazone',\n",
       " 'change',\n",
       " 'diabetesMed',\n",
       " 'new_age',\n",
       " 'primary diagnosis',\n",
       " 'second diagnosis',\n",
       " 'third diagnosis',\n",
       " 'admission_type']"
      ]
     },
     "execution_count": 20,
     "metadata": {},
     "output_type": "execute_result"
    }
   ],
   "source": [
    "categorical_columns = []\n",
    "\n",
    "for col in diabetes.columns:\n",
    "    if diabetes[col].dtype == object:\n",
    "        categorical_columns.append(col)\n",
    "        \n",
    "categorical_columns \n"
   ]
  },
  {
   "cell_type": "code",
   "execution_count": 21,
   "metadata": {},
   "outputs": [
    {
     "name": "stdout",
     "output_type": "stream",
     "text": [
      "(71518, 169)\n",
      "[[ 0.  0.  1.  0.  0.  1.  0.  0.  0.  0.  0.  0.  0.  0.  0.  0.  0.  0.\n",
      "   0.  0.  0.  0.  0.  0.  1.  0.  0.  0.  0.  0.  0.  0.  0.  0.  1.  0.\n",
      "   0.  0.  0.  0.  0.  0.  0.  0.  0.  0.  0.  0.  0.  0.  0.  0.  0.  1.\n",
      "   0.  0.  0.  1.  0.  0.  1.  0.  0.  0.  1.  0.  0.  0.  1.  0.  0.  0.\n",
      "   1.  0.  0.  0.  1.  0.  0.  1.  0.  0.  1.  0.  0.  0.  1.  0.  0.  1.\n",
      "   0.  0.  1.  0.  0.  0.  1.  0.  0.  1.  0.  0.  0.  1.  0.  0.  1.  0.\n",
      "   1.  0.  0.  1.  0.  0.  0.  1.  0.  0.  1.  0.  1.  1.  0.  1.  0.  0.\n",
      "   1.  1.  0.  1.  0.  0.  0.  0.  0.  1.  0.  0.  0.  0.  0.  0.  0.  0.\n",
      "   0.  0.  0.  0.  0.  0.  1.  0.  0.  0.  0.  0.  0.  0.  0.  1.  0.  0.\n",
      "   0.  0.  0.  0.  0.  1.  0.]\n",
      " [ 0.  0.  1.  0.  0.  1.  0.  0.  1.  0.  0.  0.  0.  0.  0.  0.  0.  0.\n",
      "   0.  0.  0.  0.  0.  0.  0.  0.  0.  0.  0.  0.  0.  0.  0.  0.  0.  0.\n",
      "   0.  0.  0.  0.  0.  0.  0.  0.  0.  0.  0.  0.  1.  0.  0.  0.  0.  1.\n",
      "   0.  0.  0.  1.  0.  0.  1.  0.  0.  0.  1.  0.  0.  0.  1.  0.  0.  0.\n",
      "   1.  0.  0.  0.  1.  0.  0.  1.  0.  0.  1.  0.  0.  0.  1.  0.  0.  1.\n",
      "   0.  0.  1.  0.  0.  0.  1.  0.  0.  1.  0.  0.  0.  1.  0.  0.  1.  0.\n",
      "   1.  0.  0.  0.  0.  1.  0.  1.  0.  0.  1.  0.  1.  1.  0.  1.  0.  1.\n",
      "   0.  0.  1.  1.  0.  0.  0.  0.  0.  0.  0.  0.  0.  0.  0.  1.  0.  0.\n",
      "   1.  0.  0.  0.  0.  0.  0.  0.  0.  0.  0.  0.  0.  0.  0.  1.  0.  0.\n",
      "   1.  0.  0.  0.  0.  0.  0.]]\n"
     ]
    }
   ],
   "source": [
    "# recod categorical variables as binary dummy variables.\n",
    "categorical_columns = []\n",
    "\n",
    "for col in diabetes.columns:\n",
    "    if diabetes[col].dtype == object:\n",
    "        categorical_columns.append(col)\n",
    "\n",
    "categorical_columns.remove('race')  \n",
    "\n",
    "def encode_string(cat_features):\n",
    "    # encode the strings to numeric categories\n",
    "    enc = preprocessing.LabelEncoder()\n",
    "    enc.fit(cat_features)\n",
    "    enc_cat_features = enc.transform(cat_features)\n",
    "    # apply one hot encoding\n",
    "    ohe = preprocessing.OneHotEncoder()\n",
    "    encoded = ohe.fit(enc_cat_features.reshape(-1,1))\n",
    "    return encoded.transform(enc_cat_features.reshape(-1,1)).toarray()\n",
    "\n",
    "Features = encode_string(diabetes['race'])  \n",
    "for col in categorical_columns:\n",
    "    temp = encode_string(diabetes[col])\n",
    "    Features = np.concatenate([Features, temp], axis = 1)\n",
    "\n",
    "print(Features.shape)\n",
    "print(Features[:2, :]) "
   ]
  },
  {
   "cell_type": "code",
   "execution_count": 22,
   "metadata": {},
   "outputs": [
    {
     "data": {
      "text/plain": [
       "['time_in_hospital',\n",
       " 'num_lab_procedures',\n",
       " 'num_procedures',\n",
       " 'num_medications',\n",
       " 'number_outpatient',\n",
       " 'number_emergency',\n",
       " 'number_inpatient',\n",
       " 'number_diagnoses']"
      ]
     },
     "execution_count": 22,
     "metadata": {},
     "output_type": "execute_result"
    }
   ],
   "source": [
    "nomeric_columns = []\n",
    "\n",
    "for col in diabetes.columns:\n",
    "    if diabetes[col].dtype == 'int64':\n",
    "        nomeric_columns.append(col)\n",
    "nomeric_columns       "
   ]
  },
  {
   "cell_type": "code",
   "execution_count": 23,
   "metadata": {},
   "outputs": [
    {
     "name": "stdout",
     "output_type": "stream",
     "text": [
      "(71518, 177)\n",
      "[[  0.   0.   1.   0.   0.   1.   0.   0.   0.   0.   0.   0.   0.   0.\n",
      "    0.   0.   0.   0.   0.   0.   0.   0.   0.   0.   1.   0.   0.   0.\n",
      "    0.   0.   0.   0.   0.   0.   1.   0.   0.   0.   0.   0.   0.   0.\n",
      "    0.   0.   0.   0.   0.   0.   0.   0.   0.   0.   0.   1.   0.   0.\n",
      "    0.   1.   0.   0.   1.   0.   0.   0.   1.   0.   0.   0.   1.   0.\n",
      "    0.   0.   1.   0.   0.   0.   1.   0.   0.   1.   0.   0.   1.   0.\n",
      "    0.   0.   1.   0.   0.   1.   0.   0.   1.   0.   0.   0.   1.   0.\n",
      "    0.   1.   0.   0.   0.   1.   0.   0.   1.   0.   1.   0.   0.   1.\n",
      "    0.   0.   0.   1.   0.   0.   1.   0.   1.   1.   0.   1.   0.   0.\n",
      "    1.   1.   0.   1.   0.   0.   0.   0.   0.   1.   0.   0.   0.   0.\n",
      "    0.   0.   0.   0.   0.   0.   0.   0.   0.   0.   1.   0.   0.   0.\n",
      "    0.   0.   0.   0.   0.   1.   0.   0.   0.   0.   0.   0.   0.   1.\n",
      "    0.   1.  41.   0.   1.   0.   0.   0.   1.]\n",
      " [  0.   0.   1.   0.   0.   1.   0.   0.   1.   0.   0.   0.   0.   0.\n",
      "    0.   0.   0.   0.   0.   0.   0.   0.   0.   0.   0.   0.   0.   0.\n",
      "    0.   0.   0.   0.   0.   0.   0.   0.   0.   0.   0.   0.   0.   0.\n",
      "    0.   0.   0.   0.   0.   0.   1.   0.   0.   0.   0.   1.   0.   0.\n",
      "    0.   1.   0.   0.   1.   0.   0.   0.   1.   0.   0.   0.   1.   0.\n",
      "    0.   0.   1.   0.   0.   0.   1.   0.   0.   1.   0.   0.   1.   0.\n",
      "    0.   0.   1.   0.   0.   1.   0.   0.   1.   0.   0.   0.   1.   0.\n",
      "    0.   1.   0.   0.   0.   1.   0.   0.   1.   0.   1.   0.   0.   0.\n",
      "    0.   1.   0.   1.   0.   0.   1.   0.   1.   1.   0.   1.   0.   1.\n",
      "    0.   0.   1.   1.   0.   0.   0.   0.   0.   0.   0.   0.   0.   0.\n",
      "    0.   1.   0.   0.   1.   0.   0.   0.   0.   0.   0.   0.   0.   0.\n",
      "    0.   0.   0.   0.   0.   1.   0.   0.   1.   0.   0.   0.   0.   0.\n",
      "    0.   3.  59.   0.  18.   0.   0.   0.   9.]]\n"
     ]
    }
   ],
   "source": [
    "#concatenate numeric features to the numpy array\n",
    "nomeric_columns = []\n",
    "\n",
    "for col in diabetes.columns:\n",
    "    if diabetes[col].dtype == 'int64':\n",
    "        nomeric_columns.append(col)\n",
    "        \n",
    "Features = np.concatenate([Features, np.array(diabetes[nomeric_columns])], axis = 1)\n",
    "print(Features.shape)\n",
    "print(Features[:2, :])"
   ]
  },
  {
   "cell_type": "code",
   "execution_count": 24,
   "metadata": {},
   "outputs": [
    {
     "name": "stdout",
     "output_type": "stream",
     "text": [
      "(71518, 177)\n",
      "[[ 0.          0.          1.          0.          0.          1.          0.\n",
      "   0.          0.          0.          0.          0.          0.          0.\n",
      "   0.          0.          0.          0.          0.          0.          0.\n",
      "   0.          0.          0.          1.          0.          0.          0.\n",
      "   0.          0.          0.          0.          0.          0.          1.\n",
      "   0.          0.          0.          0.          0.          0.          0.\n",
      "   0.          0.          0.          0.          0.          0.          0.\n",
      "   0.          0.          0.          0.          1.          0.          0.\n",
      "   0.          1.          0.          0.          1.          0.          0.\n",
      "   0.          1.          0.          0.          0.          1.          0.\n",
      "   0.          0.          1.          0.          0.          0.          1.\n",
      "   0.          0.          1.          0.          0.          1.          0.\n",
      "   0.          0.          1.          0.          0.          1.          0.\n",
      "   0.          1.          0.          0.          0.          1.          0.\n",
      "   0.          1.          0.          0.          0.          1.          0.\n",
      "   0.          1.          0.          1.          0.          0.          1.\n",
      "   0.          0.          0.          1.          0.          0.          1.\n",
      "   0.          1.          1.          0.          1.          0.          0.\n",
      "   1.          1.          0.          1.          0.          0.          0.\n",
      "   0.          0.          1.          0.          0.          0.          0.\n",
      "   0.          0.          0.          0.          0.          0.          0.\n",
      "   0.          0.          0.          1.          0.          0.          0.\n",
      "   0.          0.          0.          0.          0.          1.          0.\n",
      "   0.          0.          0.          0.          0.          0.          1.\n",
      "  -0.47195225 -1.11526581 -0.1040225  -0.81289631 -1.76932261 -0.26200437\n",
      "  -0.20334607 -0.29452415 -3.13120976]\n",
      " [ 0.          0.          1.          0.          0.          1.          0.\n",
      "   0.          1.          0.          0.          0.          0.          0.\n",
      "   0.          0.          0.          0.          0.          0.          0.\n",
      "   0.          0.          0.          0.          0.          0.          0.\n",
      "   0.          0.          0.          0.          0.          0.          0.\n",
      "   0.          0.          0.          0.          0.          0.          0.\n",
      "   0.          0.          0.          0.          0.          0.          1.\n",
      "   0.          0.          0.          0.          1.          0.          0.\n",
      "   0.          1.          0.          0.          1.          0.          0.\n",
      "   0.          1.          0.          0.          0.          1.          0.\n",
      "   0.          0.          1.          0.          0.          0.          1.\n",
      "   0.          0.          1.          0.          0.          1.          0.\n",
      "   0.          0.          1.          0.          0.          1.          0.\n",
      "   0.          1.          0.          0.          0.          1.          0.\n",
      "   0.          1.          0.          0.          0.          1.          0.\n",
      "   0.          1.          0.          1.          0.          0.          0.\n",
      "   0.          1.          0.          1.          0.          0.          1.\n",
      "   0.          1.          1.          0.          1.          0.          1.\n",
      "   0.          0.          1.          1.          0.          0.          0.\n",
      "   0.          0.          0.          0.          0.          0.          0.\n",
      "   0.          1.          0.          0.          1.          0.          0.\n",
      "   0.          0.          0.          0.          0.          0.          0.\n",
      "   0.          0.          0.          0.          0.          1.          0.\n",
      "   0.          1.          0.          0.          0.          0.          0.\n",
      "  -0.47195225 -0.43711335  0.79813373 -0.81289631  0.27613353 -0.26200437\n",
      "  -0.20334607 -0.29452415  0.87949786]]\n"
     ]
    }
   ],
   "source": [
    "# use the StanardScaler function to Zscore scale the numeric features.\n",
    "scaler = preprocessing.StandardScaler().fit(Features[:,168:])\n",
    "Features[:,168:] = scaler.transform(Features[:,168:])\n",
    "print(Features.shape)\n",
    "print(Features[:2, :])"
   ]
  },
  {
   "cell_type": "code",
   "execution_count": 25,
   "metadata": {
    "collapsed": true
   },
   "outputs": [],
   "source": [
    "# write features values to CSV file to use it later.\n",
    "np.savetxt(r'Features.csv',Features,delimiter=',')"
   ]
  },
  {
   "cell_type": "code",
   "execution_count": null,
   "metadata": {
    "collapsed": true
   },
   "outputs": [],
   "source": []
  }
 ],
 "metadata": {
  "kernelspec": {
   "display_name": "Python 3",
   "language": "python",
   "name": "python3"
  },
  "language_info": {
   "codemirror_mode": {
    "name": "ipython",
    "version": 3
   },
   "file_extension": ".py",
   "mimetype": "text/x-python",
   "name": "python",
   "nbconvert_exporter": "python",
   "pygments_lexer": "ipython3",
   "version": "3.6.3"
  }
 },
 "nbformat": 4,
 "nbformat_minor": 2
}
