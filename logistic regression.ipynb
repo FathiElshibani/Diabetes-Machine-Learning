{
 "cells": [
  {
   "cell_type": "code",
   "execution_count": 11,
   "metadata": {
    "collapsed": true
   },
   "outputs": [],
   "source": [
    "import pandas as pd\n",
    "import matplotlib.pyplot as plt\n",
    "import seaborn as sns\n",
    "import numpy as np\n",
    "import numpy.random as nr\n",
    "import math\n",
    "from sklearn import preprocessing\n",
    "import sklearn.model_selection as ms\n",
    "from sklearn import linear_model\n",
    "import sklearn.metrics as sklm\n",
    "\n",
    "%matplotlib inline"
   ]
  },
  {
   "cell_type": "code",
   "execution_count": 12,
   "metadata": {},
   "outputs": [
    {
     "name": "stdout",
     "output_type": "stream",
     "text": [
      "(71517, 177)\n",
      "(71517, 1)\n"
     ]
    }
   ],
   "source": [
    "data = pd.read_csv('diabetes_cleaned.csv')\n",
    "Features = np.array(pd.read_csv('Features.csv'))\n",
    "Labels = np.array(pd.read_csv('Labels.csv'))\n",
    "print(Features.shape)\n",
    "print(Labels.shape)"
   ]
  },
  {
   "cell_type": "code",
   "execution_count": 13,
   "metadata": {},
   "outputs": [
    {
     "name": "stdout",
     "output_type": "stream",
     "text": [
      "0    65225\n",
      "1     6293\n",
      "Name: label, dtype: int64\n"
     ]
    }
   ],
   "source": [
    "# check for Class imbalance (Are there unequal numbers of cases for the categories of the label?)\n",
    "print(data['label'].value_counts())"
   ]
  },
  {
   "cell_type": "code",
   "execution_count": 14,
   "metadata": {
    "collapsed": true
   },
   "outputs": [],
   "source": [
    "## Randomly sample cases to create independent training and test data\n",
    "nr.seed(9988)\n",
    "indx = range(Features.shape[0])\n",
    "indx = ms.train_test_split(indx, test_size = 10000)\n",
    "X_train = Features[indx[0],:]\n",
    "y_train = np.ravel(Labels[indx[0]])\n",
    "X_test = Features[indx[1],:]\n",
    "y_test = np.ravel(Labels[indx[1]])"
   ]
  },
  {
   "cell_type": "code",
   "execution_count": 15,
   "metadata": {},
   "outputs": [
    {
     "data": {
      "text/plain": [
       "LogisticRegression(C=1.0, class_weight=None, dual=False, fit_intercept=True,\n",
       "          intercept_scaling=1, max_iter=100, multi_class='ovr', n_jobs=1,\n",
       "          penalty='l2', random_state=None, solver='liblinear', tol=0.0001,\n",
       "          verbose=0, warm_start=False)"
      ]
     },
     "execution_count": 15,
     "metadata": {},
     "output_type": "execute_result"
    }
   ],
   "source": [
    "logistic_mod = linear_model.LogisticRegression() \n",
    "logistic_mod.fit(X_train, y_train)"
   ]
  },
  {
   "cell_type": "code",
   "execution_count": 16,
   "metadata": {},
   "outputs": [
    {
     "name": "stdout",
     "output_type": "stream",
     "text": [
      "[-0.34270268]\n",
      "[[  8.24068513e-03  -1.16410417e-01  -1.69633897e-02  -4.73279812e-02\n",
      "   -1.70241579e-01  -1.37384295e-01  -1.10409109e-01  -9.49092784e-02\n",
      "   -1.82181953e-01  -4.67968404e-01  -3.33342716e+00   7.01495097e-01\n",
      "   -1.48506691e+00  -5.51698971e-01   1.93151631e+00  -1.41601793e-01\n",
      "   -4.41152974e-01   3.44529526e-01  -2.34369461e-01   4.91965136e-01\n",
      "   -1.53706130e-01   1.30981528e+00  -9.95133982e-01  -8.26608301e-01\n",
      "   -5.04979261e-01  -1.42768354e-01   1.82191085e+00   4.35875634e-01\n",
      "    2.45385119e-01   1.01502774e+00   2.33291910e-02   1.37362215e-01\n",
      "   -1.28192761e-02   6.72568142e-01   1.14572577e-01  -3.98154174e-01\n",
      "   -4.88493743e-02  -6.51631245e-02  -1.29282094e-01  -1.76487218e-01\n",
      "    2.98463152e-02   4.86264032e-01  -2.40976582e-01  -1.13527903e-01\n",
      "    6.33632289e-01  -9.15709773e-02  -4.25830594e-01   5.62129834e-02\n",
      "    3.24435934e-03  -3.16698924e-02   5.50366960e-02   2.34365350e-03\n",
      "   -7.20480570e-02  -2.31591234e-01  -4.14070448e-02  -8.34674112e-02\n",
      "   -1.41805090e-01  -1.81690118e-02  -9.92611688e-02   1.49869477e-01\n",
      "   -4.90417815e-02  -1.29317995e-01  -3.14212383e-01  -5.95874067e-01\n",
      "   -2.43281152e-01  -3.65969803e-03   5.00112234e-01  -3.52721440e-01\n",
      "    3.39300765e-01   3.77615058e-01  -7.06897065e-01  -4.67869946e-02\n",
      "    3.18521462e-01  -2.99206389e-01  -3.15230761e-01   3.11511747e-01\n",
      "   -2.38833264e-01  -2.69351898e-01  -1.46029268e-01  -1.18972002e-01\n",
      "   -2.23730681e-01   1.17146493e-01  -2.02977089e-01  -1.62236654e-01\n",
      "   -9.46354316e-02  -1.39987696e-01  -6.88799968e-02  -6.47640326e-02\n",
      "   -6.90709567e-02  -5.60050679e-02  -2.86697614e-01  -1.55130368e-01\n",
      "   -1.01375725e-01  -2.05439349e-01   1.19242760e-01  -3.21177026e-01\n",
      "    4.16625325e-02  -2.04929604e-03  -6.11388924e-02  -1.36081115e-01\n",
      "   -6.27204177e-01   4.20582610e-01  -6.11523529e-02   1.69636991e-02\n",
      "   -1.78843080e-01  -1.19670949e-01  -6.26607822e-02  -2.80041900e-01\n",
      "    1.17736855e-01  -4.60439537e-01   3.47562613e-02  -1.39514879e-01\n",
      "   -1.61800397e-01  -7.61436676e-02   4.40525899e-01  -1.26515628e-01\n",
      "   -2.92503734e-01  -3.64209219e-01   4.36638014e-02  -3.86366484e-01\n",
      "   -3.42702682e-01  -1.53069364e-01  -1.89633318e-01  -2.30175797e-01\n",
      "   -1.12526885e-01  -2.05463481e-01  -1.37239201e-01  -2.94180653e-01\n",
      "   -4.85220291e-02  -5.28291793e-01   1.98410004e-02  -4.63778087e-02\n",
      "    1.29912354e-01   8.22135652e-02   6.90205174e-02   1.76183296e-01\n",
      "   -5.12252898e-02  -8.37936741e-02   1.82459415e-02  -1.80188845e-01\n",
      "   -7.38809557e-02  -2.93044720e-02  -1.87759200e-01  -5.02407030e-02\n",
      "    1.06759642e-01  -3.23589158e-02  -1.86685183e-01  -3.48777206e-02\n",
      "   -1.59244196e-01   2.76515270e-01  -1.00859436e-01  -1.61711440e-01\n",
      "   -9.09631822e-02   2.55779447e-02   9.93664478e-02  -1.05823623e-01\n",
      "   -8.55186397e-02  -1.66918792e-01   1.00353081e-01  -1.42903001e-01\n",
      "    2.41270819e-02  -9.19277323e-02   8.04880853e-02   2.98777782e-01\n",
      "   -7.08397281e-02   9.83372267e-02  -8.53718196e-01   2.52287816e-01\n",
      "    1.63742674e-02   5.16343068e-02   2.54147798e-02  -2.21130479e-02\n",
      "    1.45442312e-02   7.13455859e-03   3.85263554e-02   2.00054645e-01\n",
      "    9.21074636e-02]]\n"
     ]
    }
   ],
   "source": [
    "print(logistic_mod.intercept_)\n",
    "print(logistic_mod.coef_)"
   ]
  },
  {
   "cell_type": "code",
   "execution_count": 17,
   "metadata": {},
   "outputs": [
    {
     "name": "stdout",
     "output_type": "stream",
     "text": [
      "[[ 0.93871894  0.06128106]\n",
      " [ 0.96149997  0.03850003]\n",
      " [ 0.84017622  0.15982378]\n",
      " [ 0.86597969  0.13402031]\n",
      " [ 0.90255684  0.09744316]\n",
      " [ 0.91495964  0.08504036]\n",
      " [ 0.7866975   0.2133025 ]\n",
      " [ 0.93695811  0.06304189]\n",
      " [ 0.90953923  0.09046077]\n",
      " [ 0.92338664  0.07661336]\n",
      " [ 0.93641463  0.06358537]\n",
      " [ 0.93645432  0.06354568]\n",
      " [ 0.9130216   0.0869784 ]\n",
      " [ 0.9364698   0.0635302 ]\n",
      " [ 0.9144626   0.0855374 ]]\n"
     ]
    }
   ],
   "source": [
    "probabilities = logistic_mod.predict_proba(X_test)\n",
    "print(probabilities[:15,:])"
   ]
  },
  {
   "cell_type": "code",
   "execution_count": 18,
   "metadata": {},
   "outputs": [
    {
     "name": "stdout",
     "output_type": "stream",
     "text": [
      "[0 0 0 0 0 0 0 0 0 0 0 0 0 0 0]\n",
      "[ 0.  0.  1.  0.  0.  0.  0.  0.  0.  0.  0.  0.  1.  0.  0.]\n"
     ]
    }
   ],
   "source": [
    "def score_model(probs, threshold):\n",
    "    return np.array([1 if x > threshold else 0 for x in probs[:,1]])\n",
    "scores = score_model(probabilities, 0.5)\n",
    "print(np.array(scores[:15]))\n",
    "print(y_test[:15])"
   ]
  },
  {
   "cell_type": "code",
   "execution_count": 19,
   "metadata": {},
   "outputs": [
    {
     "name": "stdout",
     "output_type": "stream",
     "text": [
      "                 Confusion matrix\n",
      "                 Score positive    Score negative\n",
      "Actual positive      9098                 9\n",
      "Actual negative       883                10\n",
      "\n",
      "Accuracy  0.91\n",
      " \n",
      "           Positive      Negative\n",
      "Num case     9107           893\n",
      "Precision    0.91          0.53\n",
      "Recall       1.00          0.01\n",
      "F1           0.95          0.02\n"
     ]
    }
   ],
   "source": [
    "def print_metrics(labels, scores):\n",
    "    metrics = sklm.precision_recall_fscore_support(labels, scores)\n",
    "    conf = sklm.confusion_matrix(labels, scores)\n",
    "    print('                 Confusion matrix')\n",
    "    print('                 Score positive    Score negative')\n",
    "    print('Actual positive    %6d' % conf[0,0] + '             %5d' % conf[0,1])\n",
    "    print('Actual negative    %6d' % conf[1,0] + '             %5d' % conf[1,1])\n",
    "    print('')\n",
    "    print('Accuracy  %0.2f' % sklm.accuracy_score(labels, scores))\n",
    "    print(' ')\n",
    "    print('           Positive      Negative')\n",
    "    print('Num case   %6d' % metrics[3][0] + '        %6d' % metrics[3][1])\n",
    "    print('Precision  %6.2f' % metrics[0][0] + '        %6.2f' % metrics[0][1])\n",
    "    print('Recall     %6.2f' % metrics[1][0] + '        %6.2f' % metrics[1][1])\n",
    "    print('F1         %6.2f' % metrics[2][0] + '        %6.2f' % metrics[2][1])\n",
    "\n",
    "\n",
    "    \n",
    "print_metrics(y_test, scores)  "
   ]
  },
  {
   "cell_type": "code",
   "execution_count": null,
   "metadata": {
    "collapsed": true
   },
   "outputs": [],
   "source": []
  },
  {
   "cell_type": "code",
   "execution_count": 20,
   "metadata": {},
   "outputs": [
    {
     "name": "stdout",
     "output_type": "stream",
     "text": [
      "\n",
      "For threshold = 0.45\n",
      "                 Confusion matrix\n",
      "                 Score positive    Score negative\n",
      "Actual positive      9095                12\n",
      "Actual negative       882                11\n",
      "\n",
      "Accuracy  0.91\n",
      " \n",
      "           Positive      Negative\n",
      "Num case     9107           893\n",
      "Precision    0.91          0.48\n",
      "Recall       1.00          0.01\n",
      "F1           0.95          0.02\n",
      "\n",
      "For threshold = 0.4\n",
      "                 Confusion matrix\n",
      "                 Score positive    Score negative\n",
      "Actual positive      9087                20\n",
      "Actual negative       881                12\n",
      "\n",
      "Accuracy  0.91\n",
      " \n",
      "           Positive      Negative\n",
      "Num case     9107           893\n",
      "Precision    0.91          0.38\n",
      "Recall       1.00          0.01\n",
      "F1           0.95          0.03\n",
      "\n",
      "For threshold = 0.35\n",
      "                 Confusion matrix\n",
      "                 Score positive    Score negative\n",
      "Actual positive      9075                32\n",
      "Actual negative       874                19\n",
      "\n",
      "Accuracy  0.91\n",
      " \n",
      "           Positive      Negative\n",
      "Num case     9107           893\n",
      "Precision    0.91          0.37\n",
      "Recall       1.00          0.02\n",
      "F1           0.95          0.04\n",
      "\n",
      "For threshold = 0.3\n",
      "                 Confusion matrix\n",
      "                 Score positive    Score negative\n",
      "Actual positive      9042                65\n",
      "Actual negative       854                39\n",
      "\n",
      "Accuracy  0.91\n",
      " \n",
      "           Positive      Negative\n",
      "Num case     9107           893\n",
      "Precision    0.91          0.38\n",
      "Recall       0.99          0.04\n",
      "F1           0.95          0.08\n",
      "\n",
      "For threshold = 0.25\n",
      "                 Confusion matrix\n",
      "                 Score positive    Score negative\n",
      "Actual positive      8966               141\n",
      "Actual negative       827                66\n",
      "\n",
      "Accuracy  0.90\n",
      " \n",
      "           Positive      Negative\n",
      "Num case     9107           893\n",
      "Precision    0.92          0.32\n",
      "Recall       0.98          0.07\n",
      "F1           0.95          0.12\n"
     ]
    }
   ],
   "source": [
    "#### \n",
    "def test_threshold(probs, labels, threshold):\n",
    "    scores = score_model(probs, threshold)\n",
    "    print('')\n",
    "    print('For threshold = ' + str(threshold))\n",
    "    print_metrics(labels, scores)\n",
    "\n",
    "thresholds = [0.45, 0.40, 0.35, 0.3, 0.25]\n",
    "for t in thresholds:\n",
    "    test_threshold(probabilities, y_test, t)"
   ]
  },
  {
   "cell_type": "code",
   "execution_count": null,
   "metadata": {
    "collapsed": true
   },
   "outputs": [],
   "source": []
  },
  {
   "cell_type": "code",
   "execution_count": null,
   "metadata": {
    "collapsed": true
   },
   "outputs": [],
   "source": [
    "## Compute a weighted model¶\n"
   ]
  },
  {
   "cell_type": "code",
   "execution_count": 25,
   "metadata": {},
   "outputs": [],
   "source": [
    "def plot_auc(labels, probs):\n",
    "    ## Compute the false positive rate, true positive rate\n",
    "    ## and threshold along with the AUC\n",
    "    fpr, tpr, threshold = sklm.roc_curve(labels, probs[:,1])\n",
    "    auc = sklm.auc(fpr, tpr)\n",
    "    \n",
    "    ## Plot the result\n",
    "    plt.title('Receiver Operating Characteristic')\n",
    "    plt.plot(fpr, tpr, color = 'orange', label = 'AUC = %0.2f' % auc)\n",
    "    plt.legend(loc = 'lower right')\n",
    "    plt.plot([0, 1], [0, 1],'r--')\n",
    "    plt.xlim([0, 1])\n",
    "    plt.ylim([0, 1])\n",
    "    plt.ylabel('True Positive Rate')\n",
    "    plt.xlabel('False Positive Rate')\n",
    "    plt.show()\n",
    "    "
   ]
  },
  {
   "cell_type": "code",
   "execution_count": 21,
   "metadata": {},
   "outputs": [
    {
     "data": {
      "text/plain": [
       "LogisticRegression(C=1.0, class_weight={0: 0.45, 1: 0.55}, dual=False,\n",
       "          fit_intercept=True, intercept_scaling=1, max_iter=100,\n",
       "          multi_class='ovr', n_jobs=1, penalty='l2', random_state=None,\n",
       "          solver='liblinear', tol=0.0001, verbose=0, warm_start=False)"
      ]
     },
     "execution_count": 21,
     "metadata": {},
     "output_type": "execute_result"
    }
   ],
   "source": [
    "logistic_mod = linear_model.LogisticRegression(class_weight = {0:0.45, 1:0.55}) \n",
    "logistic_mod.fit(X_train, y_train)"
   ]
  },
  {
   "cell_type": "code",
   "execution_count": 22,
   "metadata": {},
   "outputs": [
    {
     "name": "stdout",
     "output_type": "stream",
     "text": [
      "[[ 0.92658371  0.07341629]\n",
      " [ 0.95331723  0.04668277]\n",
      " [ 0.81131154  0.18868846]\n",
      " [ 0.84056428  0.15943572]\n",
      " [ 0.8829865   0.1170135 ]\n",
      " [ 0.89822707  0.10177293]\n",
      " [ 0.75261034  0.24738966]\n",
      " [ 0.92395834  0.07604166]\n",
      " [ 0.89175468  0.10824532]\n",
      " [ 0.90809915  0.09190085]\n",
      " [ 0.9235772   0.0764228 ]\n",
      " [ 0.92336483  0.07663517]\n",
      " [ 0.89530018  0.10469982]\n",
      " [ 0.92357134  0.07642866]\n",
      " [ 0.89773495  0.10226505]]\n"
     ]
    }
   ],
   "source": [
    "probabilities = logistic_mod.predict_proba(X_test)\n",
    "print(probabilities[:15,:])"
   ]
  },
  {
   "cell_type": "code",
   "execution_count": 26,
   "metadata": {},
   "outputs": [
    {
     "name": "stdout",
     "output_type": "stream",
     "text": [
      "                 Confusion matrix\n",
      "                 Score positive    Score negative\n",
      "Actual positive      9094                13\n",
      "Actual negative       882                11\n",
      "\n",
      "Accuracy  0.91\n",
      " \n",
      "           Positive      Negative\n",
      "Num case     9107           893\n",
      "Precision    0.91          0.46\n",
      "Recall       1.00          0.01\n",
      "F1           0.95          0.02\n"
     ]
    },
    {
     "data": {
      "image/png": "[encoded data removed]",
      "text/plain": [
       "<matplotlib.figure.Figure at 0x10f3d4400>"
      ]
     },
     "metadata": {},
     "output_type": "display_data"
    }
   ],
   "source": [
    "scores = score_model(probabilities, 0.5)\n",
    "print_metrics(y_test, scores)  \n",
    "plot_auc(y_test, probabilities) "
   ]
  },
  {
   "cell_type": "code",
   "execution_count": 28,
   "metadata": {},
   "outputs": [
    {
     "name": "stdout",
     "output_type": "stream",
     "text": [
      "\n",
      "For threshold = 0.45\n",
      "                 Confusion matrix\n",
      "                 Score positive    Score negative\n",
      "Actual positive      9087                20\n",
      "Actual negative       881                12\n",
      "\n",
      "Accuracy  0.91\n",
      " \n",
      "           Positive      Negative\n",
      "Num case     9107           893\n",
      "Precision    0.91          0.38\n",
      "Recall       1.00          0.01\n",
      "F1           0.95          0.03\n",
      "\n",
      "For threshold = 0.4\n",
      "                 Confusion matrix\n",
      "                 Score positive    Score negative\n",
      "Actual positive      9078                29\n",
      "Actual negative       875                18\n",
      "\n",
      "Accuracy  0.91\n",
      " \n",
      "           Positive      Negative\n",
      "Num case     9107           893\n",
      "Precision    0.91          0.38\n",
      "Recall       1.00          0.02\n",
      "F1           0.95          0.04\n",
      "\n",
      "For threshold = 0.35\n",
      "                 Confusion matrix\n",
      "                 Score positive    Score negative\n",
      "Actual positive      9046                61\n",
      "Actual negative       857                36\n",
      "\n",
      "Accuracy  0.91\n",
      " \n",
      "           Positive      Negative\n",
      "Num case     9107           893\n",
      "Precision    0.91          0.37\n",
      "Recall       0.99          0.04\n",
      "F1           0.95          0.07\n",
      "\n",
      "For threshold = 0.3\n",
      "                 Confusion matrix\n",
      "                 Score positive    Score negative\n",
      "Actual positive      8989               118\n",
      "Actual negative       831                62\n",
      "\n",
      "Accuracy  0.91\n",
      " \n",
      "           Positive      Negative\n",
      "Num case     9107           893\n",
      "Precision    0.92          0.34\n",
      "Recall       0.99          0.07\n",
      "F1           0.95          0.12\n",
      "\n",
      "For threshold = 0.25\n",
      "                 Confusion matrix\n",
      "                 Score positive    Score negative\n",
      "Actual positive      8871               236\n",
      "Actual negative       785               108\n",
      "\n",
      "Accuracy  0.90\n",
      " \n",
      "           Positive      Negative\n",
      "Num case     9107           893\n",
      "Precision    0.92          0.31\n",
      "Recall       0.97          0.12\n",
      "F1           0.95          0.17\n"
     ]
    }
   ],
   "source": [
    "def test_threshold(probs, labels, threshold):\n",
    "    scores = score_model(probs, threshold)\n",
    "    print('')\n",
    "    print('For threshold = ' + str(threshold))\n",
    "    print_metrics(labels, scores)\n",
    "\n",
    "thresholds = [0.45, 0.40, 0.35, 0.3, 0.25]\n",
    "for t in thresholds:\n",
    "    test_threshold(probabilities, y_test, t)"
   ]
  },
  {
   "cell_type": "code",
   "execution_count": null,
   "metadata": {
    "collapsed": true
   },
   "outputs": [],
   "source": []
  }
 ],
 "metadata": {
  "kernelspec": {
   "display_name": "Python 3",
   "language": "python",
   "name": "python3"
  },
  "language_info": {
   "codemirror_mode": {
    "name": "ipython",
    "version": 3
   },
   "file_extension": ".py",
   "mimetype": "text/x-python",
   "name": "python",
   "nbconvert_exporter": "python",
   "pygments_lexer": "ipython3",
   "version": "3.6.3"
  }
 },
 "nbformat": 4,
 "nbformat_minor": 2
}
