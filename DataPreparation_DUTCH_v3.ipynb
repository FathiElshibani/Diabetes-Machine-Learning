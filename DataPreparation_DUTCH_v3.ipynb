{
 "cells": [
  {
   "cell_type": "code",
   "execution_count": 1,
   "metadata": {
    "collapsed": true
   },
   "outputs": [],
   "source": [
    "import pandas as pd\n",
    "import numpy as np"
   ]
  },
  {
   "cell_type": "code",
   "execution_count": 2,
   "metadata": {
    "collapsed": true
   },
   "outputs": [],
   "source": [
    "# read the diabetic data to pandas dataframe\n",
    "diabetes = pd.read_csv(\"diabetic_data.csv\", low_memory =False)"
   ]
  },
  {
   "cell_type": "markdown",
   "metadata": {},
   "source": [
    "## Data statistics\n",
    "\n",
    "We'll first gather some statistical data based on our base csv file.\n",
    "Data can be split into two categories:\n",
    "\n",
    "* continuous variables (recorded data, based on tests)\n",
    "* categorical variables (categories)"
   ]
  },
  {
   "cell_type": "code",
   "execution_count": 3,
   "metadata": {},
   "outputs": [
    {
     "name": "stdout",
     "output_type": "stream",
     "text": [
      "Total observations is 101766. Total number of variables is 50\n"
     ]
    },
    {
     "data": {
      "text/html": [
       "<div>\n",
       "<style>\n",
       "    .dataframe thead tr:only-child th {\n",
       "        text-align: right;\n",
       "    }\n",
       "\n",
       "    .dataframe thead th {\n",
       "        text-align: left;\n",
       "    }\n",
       "\n",
       "    .dataframe tbody tr th {\n",
       "        vertical-align: top;\n",
       "    }\n",
       "</style>\n",
       "<table border=\"1\" class=\"dataframe\">\n",
       "  <thead>\n",
       "    <tr style=\"text-align: right;\">\n",
       "      <th></th>\n",
       "      <th>min</th>\n",
       "      <th>max</th>\n",
       "      <th>mean</th>\n",
       "      <th>median</th>\n",
       "      <th>std</th>\n",
       "    </tr>\n",
       "  </thead>\n",
       "  <tbody>\n",
       "    <tr>\n",
       "      <th>time_in_hospital</th>\n",
       "      <td>1.0</td>\n",
       "      <td>14.0</td>\n",
       "      <td>4.395987</td>\n",
       "      <td>4.0</td>\n",
       "      <td>2.985108</td>\n",
       "    </tr>\n",
       "    <tr>\n",
       "      <th>num_lab_procedures</th>\n",
       "      <td>1.0</td>\n",
       "      <td>132.0</td>\n",
       "      <td>43.095641</td>\n",
       "      <td>44.0</td>\n",
       "      <td>19.674362</td>\n",
       "    </tr>\n",
       "    <tr>\n",
       "      <th>num_procedures</th>\n",
       "      <td>0.0</td>\n",
       "      <td>6.0</td>\n",
       "      <td>1.339730</td>\n",
       "      <td>1.0</td>\n",
       "      <td>1.705807</td>\n",
       "    </tr>\n",
       "    <tr>\n",
       "      <th>num_medications</th>\n",
       "      <td>1.0</td>\n",
       "      <td>81.0</td>\n",
       "      <td>16.021844</td>\n",
       "      <td>15.0</td>\n",
       "      <td>8.127566</td>\n",
       "    </tr>\n",
       "    <tr>\n",
       "      <th>number_outpatient</th>\n",
       "      <td>0.0</td>\n",
       "      <td>42.0</td>\n",
       "      <td>0.369357</td>\n",
       "      <td>0.0</td>\n",
       "      <td>1.267265</td>\n",
       "    </tr>\n",
       "    <tr>\n",
       "      <th>number_inpatient</th>\n",
       "      <td>0.0</td>\n",
       "      <td>21.0</td>\n",
       "      <td>0.635566</td>\n",
       "      <td>0.0</td>\n",
       "      <td>1.262863</td>\n",
       "    </tr>\n",
       "    <tr>\n",
       "      <th>number_emergency</th>\n",
       "      <td>0.0</td>\n",
       "      <td>76.0</td>\n",
       "      <td>0.197836</td>\n",
       "      <td>0.0</td>\n",
       "      <td>0.930472</td>\n",
       "    </tr>\n",
       "    <tr>\n",
       "      <th>number_diagnoses</th>\n",
       "      <td>1.0</td>\n",
       "      <td>16.0</td>\n",
       "      <td>7.422607</td>\n",
       "      <td>8.0</td>\n",
       "      <td>1.933600</td>\n",
       "    </tr>\n",
       "  </tbody>\n",
       "</table>\n",
       "</div>"
      ],
      "text/plain": [
       "                    min    max       mean  median        std\n",
       "time_in_hospital    1.0   14.0   4.395987     4.0   2.985108\n",
       "num_lab_procedures  1.0  132.0  43.095641    44.0  19.674362\n",
       "num_procedures      0.0    6.0   1.339730     1.0   1.705807\n",
       "num_medications     1.0   81.0  16.021844    15.0   8.127566\n",
       "number_outpatient   0.0   42.0   0.369357     0.0   1.267265\n",
       "number_inpatient    0.0   21.0   0.635566     0.0   1.262863\n",
       "number_emergency    0.0   76.0   0.197836     0.0   0.930472\n",
       "number_diagnoses    1.0   16.0   7.422607     8.0   1.933600"
      ]
     },
     "execution_count": 3,
     "metadata": {},
     "output_type": "execute_result"
    }
   ],
   "source": [
    "# Statistics for continuous variables\n",
    "## \n",
    "print(f\"Total observations is {len(diabetes)}. Total number of variables is {len(diabetes.columns)}\")\n",
    "## Time in hospital (days)\n",
    "df_statistics = diabetes[[\"time_in_hospital\", \"num_lab_procedures\", \"num_procedures\",\n",
    "                    \"num_medications\",\"number_outpatient\",\"number_inpatient\",\n",
    "                    \"number_emergency\", \"number_diagnoses\"]]\n",
    "df_statistics.agg(['min','max','mean','median','std']).T"
   ]
  },
  {
   "cell_type": "code",
   "execution_count": 4,
   "metadata": {},
   "outputs": [
    {
     "name": "stdout",
     "output_type": "stream",
     "text": [
      "                 Total  Percentage\n",
      "race                              \n",
      "?                 2273         2.2\n",
      "AfricanAmerican  19210        18.9\n",
      "Asian              641         0.6\n",
      "Caucasian        76099        74.8\n",
      "Hispanic          2037         2.0\n",
      "Other             1506         1.5\n",
      "==================================================\n",
      "                 Total  Percentage\n",
      "gender                            \n",
      "Female           54708        53.8\n",
      "Male             47055        46.2\n",
      "Unknown/Invalid      3         0.0\n",
      "==================================================\n",
      "          Total  Percentage\n",
      "age                        \n",
      "[0-10)      161         0.2\n",
      "[10-20)     691         0.7\n",
      "[20-30)    1657         1.6\n",
      "[30-40)    3775         3.7\n",
      "[40-50)    9685         9.5\n",
      "[50-60)   17256        17.0\n",
      "[60-70)   22483        22.1\n",
      "[70-80)   26068        25.6\n",
      "[80-90)   17197        16.9\n",
      "[90-100)   2793         2.7\n",
      "==================================================\n",
      "            Total  Percentage\n",
      "readmitted                   \n",
      "<30         11357        11.2\n",
      ">30         35545        34.9\n",
      "NO          54864        53.9\n",
      "==================================================\n",
      "           Total  Percentage\n",
      "A1Cresult                   \n",
      ">7          3812         3.7\n",
      ">8          8216         8.1\n",
      "None       84748        83.3\n",
      "Norm        4990         4.9\n",
      "==================================================\n",
      "        Total  Percentage\n",
      "change                   \n",
      "Ch      47011        46.2\n",
      "No      54755        53.8\n",
      "==================================================\n"
     ]
    },
    {
     "name": "stderr",
     "output_type": "stream",
     "text": [
      "/Users/fathielshibani/anaconda3/lib/python3.6/site-packages/pandas/core/groupby.py:4036: FutureWarning: using a dict with renaming is deprecated and will be removed in a future version\n",
      "  return super(DataFrameGroupBy, self).aggregate(arg, *args, **kwargs)\n"
     ]
    }
   ],
   "source": [
    "# Statistics for categorical variables (\"features\")\n",
    "\n",
    "## PS A1Cresult stands for HbA1c\n",
    "## It's a test that tells you your average level of blood sugar over the past 2 to 3 months\n",
    "\n",
    "col = [['race'], ['gender'], ['age'], ['readmitted'], ['A1Cresult'],['change']]\n",
    "for i, col in enumerate(col):\n",
    "    grouped = diabetes.groupby(col).agg({'race': {'Total': 'count', 'Percentage': lambda x: round(100*x.count()/len(diabetes),1)}})\n",
    "    grouped.columns = grouped.columns.droplevel(0)\n",
    "    \n",
    "    print(grouped)\n",
    "    print(\"=\"*50)"
   ]
  },
  {
   "cell_type": "code",
   "execution_count": 5,
   "metadata": {
    "collapsed": true
   },
   "outputs": [],
   "source": [
    "# Densify age categories, new range is 20 years instead of 10\n",
    "new_age = []\n",
    "\n",
    "for row in diabetes[\"age\"]:\n",
    "    # Assign age groups [90-100) and [80-90) to new group [80-100)\n",
    "    if row == \"[90-100)\":\n",
    "        new_age.append(\"[80-100)\")\n",
    "    elif row == \"[80-90)\":\n",
    "        new_age.append(\"[80-100)\")\n",
    "    # Assign age groups [70-80) and [60-70) to new group [60-80)\n",
    "    elif row == \"[70-80)\":\n",
    "        new_age.append(\"[60-80)\")\n",
    "    elif row == \"[60-70)\":\n",
    "        new_age.append(\"[60-80)\")\n",
    "    # Assign age groups [50-60) and [40-50) to new group [40-60)\n",
    "    elif row == \"[50-60)\":\n",
    "        new_age.append(\"[40-60)\")\n",
    "    elif row == \"[40-50)\":\n",
    "        new_age.append(\"[40-60)\")\n",
    "    # Assign age groups [30-40) and [20-30) to new group [20-40)\n",
    "    elif row == \"[30-40)\":\n",
    "        new_age.append(\"[20-40)\")\n",
    "    elif row == \"[20-30)\":\n",
    "        new_age.append(\"[20-40)\")\n",
    "    # Assign age groups [10-20) and [0-10) to new group [0-20)\n",
    "    elif row == \"[10-20)\":\n",
    "        new_age.append(\"[0-20)\")\n",
    "    elif row == \"[0-10)\":\n",
    "        new_age.append(\"[0-20)\")\n",
    "    # Assign missing values to \"unknown\"\n",
    "    else:\n",
    "        new_age.append(\"unknown\")\n",
    "\n",
    "# Add new age category column to dataframe\n",
    "diabetes['new_age'] = new_age"
   ]
  },
  {
   "cell_type": "code",
   "execution_count": 6,
   "metadata": {
    "collapsed": true
   },
   "outputs": [],
   "source": [
    "# REMARK DUTCH\n",
    "# Medications with one single result\n",
    "## examide and citoglipton only have No as outcome. We can delete those columns\n",
    "diabetes.drop([\"examide\", \"citoglipton\"], axis =1, inplace = True)"
   ]
  },
  {
   "cell_type": "code",
   "execution_count": 7,
   "metadata": {
    "collapsed": true
   },
   "outputs": [],
   "source": [
    "# REMARK DUTCH\n",
    "# First, replace \"?\" values by NaN's\n",
    "diabetes = diabetes.replace('?', np.NaN)"
   ]
  },
  {
   "cell_type": "code",
   "execution_count": 8,
   "metadata": {},
   "outputs": [
    {
     "name": "stdout",
     "output_type": "stream",
     "text": [
      "Out of 101766 rows, there are 71518 unique patients\n"
     ]
    }
   ],
   "source": [
    "# REMARK DUTCH\n",
    "# Number of patients with multiple inpatient visits\n",
    "total = len(diabetes)\n",
    "unique_patients = len(diabetes['patient_nbr'].unique())\n",
    "\n",
    "print(f\"Out of {total} rows, there are {unique_patients} unique patients\")"
   ]
  },
  {
   "cell_type": "code",
   "execution_count": 9,
   "metadata": {},
   "outputs": [
    {
     "name": "stdout",
     "output_type": "stream",
     "text": [
      "Number of first visits is 71518\n"
     ]
    }
   ],
   "source": [
    "# REMARK DUTCH\n",
    "# Only keep the patient's first visit\n",
    "diabetes = diabetes.drop_duplicates(subset = 'patient_nbr', keep = 'first')\n",
    "print(f\"Number of first visits is {len(diabetes)}\")"
   ]
  },
  {
   "cell_type": "code",
   "execution_count": 10,
   "metadata": {},
   "outputs": [
    {
     "name": "stdout",
     "output_type": "stream",
     "text": [
      "(71518, 49)\n",
      "There are 0 duplicated rows\n"
     ]
    }
   ],
   "source": [
    "# check for NULL values\n",
    "diabetes.isnull().sum()\n",
    "\n",
    "# check for duplicated rows\n",
    "print(diabetes.shape)\n",
    "print('There are ' + str(diabetes.duplicated().sum()) + ' duplicated rows')"
   ]
  },
  {
   "cell_type": "code",
   "execution_count": 11,
   "metadata": {},
   "outputs": [
    {
     "data": {
      "text/plain": [
       "\"# check for missing values in non numeric columns\\nfor col in diabetes.columns:\\n    if diabetes[col].dtype == object:\\n        count = 0\\n        count = [count + 1 for x in diabetes[col] if x == '?']\\n        print(col + ' ' + str(sum(count)))\""
      ]
     },
     "execution_count": 11,
     "metadata": {},
     "output_type": "execute_result"
    }
   ],
   "source": [
    "# REMARK DUTCH, NO LONGER NEEDED AS WE REPLACE '?' WITH NaN\n",
    "\"\"\"# check for missing values in non numeric columns\n",
    "for col in diabetes.columns:\n",
    "    if diabetes[col].dtype == object:\n",
    "        count = 0\n",
    "        count = [count + 1 for x in diabetes[col] if x == '?']\n",
    "        print(col + ' ' + str(sum(count)))\"\"\""
   ]
  },
  {
   "cell_type": "code",
   "execution_count": 12,
   "metadata": {
    "collapsed": true
   },
   "outputs": [],
   "source": [
    "# REMARK DUTCH, WE MIGHT WANT TO KEEP MEDICAL_SPECIALTY\n",
    "# drop columns with missing values (more than 40%)\n",
    "diabetes = diabetes.drop(['weight', 'payer_code','medical_specialty'], axis=1)"
   ]
  },
  {
   "cell_type": "code",
   "execution_count": 13,
   "metadata": {},
   "outputs": [
    {
     "data": {
      "text/plain": [
       "\"#fill the missing values (less than 3%) in Race column with most frequent value ('Caucasian' - 76%)\\nprint('Race')\\nprint(diabetes['race'].describe())\\nprint(      )\\n\\ndiabetes.loc[:, 'race'].replace('?', 'Caucasian')\""
      ]
     },
     "execution_count": 13,
     "metadata": {},
     "output_type": "execute_result"
    }
   ],
   "source": [
    "# REMARK DUTCH, JUST LEAVE THIS, IT'S ARBITRARY\n",
    "\"\"\"#fill the missing values (less than 3%) in Race column with most frequent value ('Caucasian' - 76%)\n",
    "print('Race')\n",
    "print(diabetes['race'].describe())\n",
    "print(      )\n",
    "\n",
    "diabetes.loc[:, 'race'].replace('?', 'Caucasian')\"\"\""
   ]
  },
  {
   "cell_type": "code",
   "execution_count": 14,
   "metadata": {},
   "outputs": [
    {
     "data": {
      "text/plain": [
       "\"# delete rows from columns with missing values (less than 2%)\\ncolumns = ['diag_1','diag_2','diag_3']\\nfor col in columns:\\n    diabetes = diabetes[diabetes[col] != '?']\""
      ]
     },
     "execution_count": 14,
     "metadata": {},
     "output_type": "execute_result"
    }
   ],
   "source": [
    "# REMARK DUTCH, DIAGNOSIS IS IMPORTANT DATA. LET'S JUST DELETE THE ROWS IF ALL DIAGNOSIS DATA IS MISSING\n",
    "# Only drop diag_1, diag_2, diag_3 where all diagnosis data is missing\n",
    "columns = [\"diag_1\", \"diag_2\", \"diag_3\"]\n",
    "diabetes.dropna(subset = columns, how=\"all\")\n",
    "\n",
    "\"\"\"# delete rows from columns with missing values (less than 2%)\n",
    "columns = ['diag_1','diag_2','diag_3']\n",
    "for col in columns:\n",
    "    diabetes = diabetes[diabetes[col] != '?']\"\"\""
   ]
  },
  {
   "cell_type": "code",
   "execution_count": 15,
   "metadata": {
    "collapsed": true
   },
   "outputs": [],
   "source": [
    "# prepare colums to convert into numeric columns\n",
    "coulms = ['diag_1','diag_2','diag_3']\n",
    "for col in columns:\n",
    "    diabetes.loc[:, col].replace(to_replace=r'^V.$', value=0, regex=True)"
   ]
  },
  {
   "cell_type": "code",
   "execution_count": 16,
   "metadata": {
    "collapsed": true
   },
   "outputs": [],
   "source": [
    "# convert into numeric columns\n",
    "coulms = ['diag_1','diag_2','diag_3']\n",
    "for col in columns:\n",
    "    diabetes[col] = pd.to_numeric(diabetes[col], errors='coerce')"
   ]
  },
  {
   "cell_type": "code",
   "execution_count": 17,
   "metadata": {
    "collapsed": true
   },
   "outputs": [],
   "source": [
    "## Use ICD9 codes to create primary diagnosis column from diag_1 column based on ICD9 codes categories\n",
    "\n",
    "# create primary diagnosis column from diag_1 column\n",
    "primary_diagnosis = []\n",
    "\n",
    "for d in diabetes['diag_1']:\n",
    "    if d >= 140 and d <= 239:\n",
    "        primary_diagnosis.append('Neoplasms')    \n",
    "    elif d >= 250.00 and d <= 250.99:\n",
    "        primary_diagnosis.append('Diabetes')\n",
    "    elif (d >= 390 and d <= 459) or d == 785:\n",
    "        primary_diagnosis.append('Circulatory')\n",
    "    elif (d >= 460 and d <= 519) or d == 786:\n",
    "        primary_diagnosis.append('Respiratory')\n",
    "    elif (d >= 520 and d <= 579) or d == 787:\n",
    "        primary_diagnosis.append('Digestive')\n",
    "    elif (d >= 580 and d <= 629) or d == 788:\n",
    "        primary_diagnosis.append('Genitourinary')\n",
    "    elif d >= 710 and d <= 739:\n",
    "        primary_diagnosis.append('Musculoskeletal') \n",
    "    elif d >= 800 and d <= 999:\n",
    "        primary_diagnosis.append('Injury')    \n",
    "    else:\n",
    "        primary_diagnosis.append('Other')\n",
    "        \n",
    "diabetes['primary diagnosis'] = primary_diagnosis    \n",
    "\n",
    "            \n",
    "# create primary diagnosis column from diag_2 column\n",
    "second_diagnosis = []\n",
    "\n",
    "for d in diabetes['diag_2']:\n",
    "    if d >= 140 and d <= 239:\n",
    "        second_diagnosis.append('Neoplasms')    \n",
    "    elif d >= 250.00 and d <= 250.99:\n",
    "        second_diagnosis.append('Diabetes')\n",
    "    elif (d >= 390 and d <= 459) or d == 785:\n",
    "        second_diagnosis.append('Circulatory')\n",
    "    elif (d >= 460 and d <= 519) or d == 786:\n",
    "        second_diagnosis.append('Respiratory')\n",
    "    elif (d >= 520 and d <= 579) or d == 787:\n",
    "        second_diagnosis.append('Digestive')\n",
    "    elif (d >= 580 and d <= 629) or d == 788:\n",
    "        second_diagnosis.append('Genitourinary')\n",
    "    elif d >= 710 and d <= 739:\n",
    "        second_diagnosis.append('Musculoskeletal') \n",
    "    elif d >= 800 and d <= 999:\n",
    "        second_diagnosis.append('Injury')    \n",
    "    else:\n",
    "        second_diagnosis.append('Other')\n",
    "        \n",
    "diabetes['second diagnosis'] = second_diagnosis    \n",
    "\n",
    "\n",
    "# create primary diagnosis column from diag_2 column\n",
    "third_diagnosis = []\n",
    "\n",
    "for d in diabetes['diag_3']:\n",
    "    if d >= 140 and d <= 239:\n",
    "        third_diagnosis.append('Neoplasms')    \n",
    "    elif d >= 250.00 and d <= 250.99:\n",
    "        third_diagnosis.append('Diabetes')\n",
    "    elif (d >= 390 and d <= 459) or d == 785:\n",
    "        third_diagnosis.append('Circulatory')\n",
    "    elif (d >= 460 and d <= 519) or d == 786:\n",
    "        third_diagnosis.append('Respiratory')\n",
    "    elif (d >= 520 and d <= 579) or d == 787:\n",
    "        third_diagnosis.append('Digestive')\n",
    "    elif (d >= 580 and d <= 629) or d == 788:\n",
    "        third_diagnosis.append('Genitourinary')\n",
    "    elif d >= 710 and d <= 739:\n",
    "        third_diagnosis.append('Musculoskeletal') \n",
    "    elif d >= 800 and d <= 999:\n",
    "        third_diagnosis.append('Injury')    \n",
    "    else:\n",
    "        third_diagnosis.append('Other')\n",
    "        \n",
    "diabetes['third diagnosis'] = third_diagnosis                       "
   ]
  },
  {
   "cell_type": "code",
   "execution_count": 18,
   "metadata": {
    "collapsed": true
   },
   "outputs": [],
   "source": [
    "# create admission_type column from admission_type_id column ... for more details see IDs_mapping.csv file\n",
    "\n",
    "admission_type = []\n",
    "\n",
    "for a in diabetes['admission_type_id']:\n",
    "    if a == 1:\n",
    "        admission_type.append('Emergency')    \n",
    "    elif a == 2:\n",
    "        admission_type.append('Urgent')\n",
    "    elif a == 3:\n",
    "        admission_type.append('Elective')\n",
    "    elif a == 4:\n",
    "        admission_type.append('Newborn')\n",
    "    elif a == 5:\n",
    "        admission_type.append('Not Available')\n",
    "    elif a == 6:\n",
    "        admission_type.append('Unknown')\n",
    "    elif a == 7:\n",
    "        admission_type.append('Trauma Center')\n",
    "    elif a == 8:\n",
    "        admission_type.append('Not Mapped')    \n",
    "            \n",
    "diabetes['admission_type'] = admission_type "
   ]
  },
  {
   "cell_type": "code",
   "execution_count": 19,
   "metadata": {
    "collapsed": true
   },
   "outputs": [],
   "source": [
    "diabetes['race'] = diabetes['race'].fillna('Caucasian')"
   ]
  },
  {
   "cell_type": "code",
   "execution_count": 20,
   "metadata": {
    "collapsed": true
   },
   "outputs": [],
   "source": [
    "# create label column from readmitted column (NO and >30 considered as 0, <30 as 1)\n",
    "label = []\n",
    "\n",
    "for l in diabetes['readmitted']:\n",
    "    if l == 'NO'or l == '>30':\n",
    "        label.append(0)    \n",
    "    else:\n",
    "        label.append(1)\n",
    "           \n",
    "diabetes['label'] = label"
   ]
  },
  {
   "cell_type": "code",
   "execution_count": 21,
   "metadata": {
    "collapsed": true
   },
   "outputs": [],
   "source": [
    "# REMARK DUTCH, YOU DON'T WANT TO OVERRIDE THE ORIGINAL FILE. SAVE RESULTS IN A NEW CSV\n",
    "diabetes.to_csv(\"diabetes_cleaned.csv\", index=False)"
   ]
  },
  {
   "cell_type": "code",
   "execution_count": null,
   "metadata": {
    "collapsed": true
   },
   "outputs": [],
   "source": []
  }
 ],
 "metadata": {
  "kernelspec": {
   "display_name": "Python 3",
   "language": "python",
   "name": "python3"
  },
  "language_info": {
   "codemirror_mode": {
    "name": "ipython",
    "version": 3
   },
   "file_extension": ".py",
   "mimetype": "text/x-python",
   "name": "python",
   "nbconvert_exporter": "python",
   "pygments_lexer": "ipython3",
   "version": "3.6.3"
  }
 },
 "nbformat": 4,
 "nbformat_minor": 2
}
